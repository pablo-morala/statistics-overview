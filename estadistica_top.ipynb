{
 "cells": [
  {
   "cell_type": "code",
   "execution_count": 1,
   "metadata": {
    "id": "lQphrMdL2pbA"
   },
   "outputs": [],
   "source": [
    "import pandas as pd"
   ]
  },
  {
   "cell_type": "code",
   "execution_count": 2,
   "metadata": {
    "colab": {
     "base_uri": "https://localhost:8080/"
    },
    "id": "a0s2bFd-37zn",
    "outputId": "550aff9a-6d18-467c-fb23-dc2725c55596"
   },
   "outputs": [
    {
     "name": "stdout",
     "output_type": "stream",
     "text": [
      "Mounted at /content/drive\n"
     ]
    }
   ],
   "source": [
    "from google.colab import drive\n",
    "import os\n",
    "drive.mount('/content/drive',force_remount=True)\n",
    "mi_directorio = '/content/drive/My Drive/Master/Estadistica'\n",
    "os.chdir(mi_directorio)"
   ]
  },
  {
   "cell_type": "code",
   "execution_count": 3,
   "metadata": {
    "colab": {
     "base_uri": "https://localhost:8080/",
     "height": 424
    },
    "id": "pzdo-JMS4IOW",
    "outputId": "192c3c53-fd01-46ea-b0e2-2969edae3151"
   },
   "outputs": [
    {
     "data": {
      "application/vnd.google.colaboratory.intrinsic+json": {
       "summary": "{\n  \"name\": \"df\",\n  \"rows\": 65,\n  \"fields\": [\n    {\n      \"column\": \"Grupo de control\",\n      \"properties\": {\n        \"dtype\": \"number\",\n        \"std\": 0,\n        \"min\": 1,\n        \"max\": 2,\n        \"num_unique_values\": 2,\n        \"samples\": [\n          2,\n          1\n        ],\n        \"semantic_type\": \"\",\n        \"description\": \"\"\n      }\n    },\n    {\n      \"column\": \"Nivel glucosa basal\",\n      \"properties\": {\n        \"dtype\": \"number\",\n        \"std\": 9,\n        \"min\": 65,\n        \"max\": 106,\n        \"num_unique_values\": 31,\n        \"samples\": [\n          98,\n          104\n        ],\n        \"semantic_type\": \"\",\n        \"description\": \"\"\n      }\n    },\n    {\n      \"column\": \"Nivel glucosa 60 min\",\n      \"properties\": {\n        \"dtype\": \"number\",\n        \"std\": 16,\n        \"min\": 131,\n        \"max\": 198,\n        \"num_unique_values\": 43,\n        \"samples\": [\n          169,\n          145\n        ],\n        \"semantic_type\": \"\",\n        \"description\": \"\"\n      }\n    }\n  ]\n}",
       "type": "dataframe",
       "variable_name": "df"
      },
      "text/html": [
       "\n",
       "  <div id=\"df-3b65a117-f349-46bf-84ef-61007f9f6238\" class=\"colab-df-container\">\n",
       "    <div>\n",
       "<style scoped>\n",
       "    .dataframe tbody tr th:only-of-type {\n",
       "        vertical-align: middle;\n",
       "    }\n",
       "\n",
       "    .dataframe tbody tr th {\n",
       "        vertical-align: top;\n",
       "    }\n",
       "\n",
       "    .dataframe thead th {\n",
       "        text-align: right;\n",
       "    }\n",
       "</style>\n",
       "<table border=\"1\" class=\"dataframe\">\n",
       "  <thead>\n",
       "    <tr style=\"text-align: right;\">\n",
       "      <th></th>\n",
       "      <th>Grupo de control</th>\n",
       "      <th>Nivel glucosa basal</th>\n",
       "      <th>Nivel glucosa 60 min</th>\n",
       "    </tr>\n",
       "  </thead>\n",
       "  <tbody>\n",
       "    <tr>\n",
       "      <th>0</th>\n",
       "      <td>1</td>\n",
       "      <td>90</td>\n",
       "      <td>136</td>\n",
       "    </tr>\n",
       "    <tr>\n",
       "      <th>1</th>\n",
       "      <td>1</td>\n",
       "      <td>82</td>\n",
       "      <td>151</td>\n",
       "    </tr>\n",
       "    <tr>\n",
       "      <th>2</th>\n",
       "      <td>1</td>\n",
       "      <td>80</td>\n",
       "      <td>148</td>\n",
       "    </tr>\n",
       "    <tr>\n",
       "      <th>3</th>\n",
       "      <td>1</td>\n",
       "      <td>75</td>\n",
       "      <td>138</td>\n",
       "    </tr>\n",
       "    <tr>\n",
       "      <th>4</th>\n",
       "      <td>1</td>\n",
       "      <td>74</td>\n",
       "      <td>141</td>\n",
       "    </tr>\n",
       "    <tr>\n",
       "      <th>...</th>\n",
       "      <td>...</td>\n",
       "      <td>...</td>\n",
       "      <td>...</td>\n",
       "    </tr>\n",
       "    <tr>\n",
       "      <th>60</th>\n",
       "      <td>2</td>\n",
       "      <td>95</td>\n",
       "      <td>169</td>\n",
       "    </tr>\n",
       "    <tr>\n",
       "      <th>61</th>\n",
       "      <td>2</td>\n",
       "      <td>99</td>\n",
       "      <td>172</td>\n",
       "    </tr>\n",
       "    <tr>\n",
       "      <th>62</th>\n",
       "      <td>2</td>\n",
       "      <td>98</td>\n",
       "      <td>173</td>\n",
       "    </tr>\n",
       "    <tr>\n",
       "      <th>63</th>\n",
       "      <td>2</td>\n",
       "      <td>84</td>\n",
       "      <td>188</td>\n",
       "    </tr>\n",
       "    <tr>\n",
       "      <th>64</th>\n",
       "      <td>2</td>\n",
       "      <td>92</td>\n",
       "      <td>160</td>\n",
       "    </tr>\n",
       "  </tbody>\n",
       "</table>\n",
       "<p>65 rows × 3 columns</p>\n",
       "</div>\n",
       "    <div class=\"colab-df-buttons\">\n",
       "\n",
       "  <div class=\"colab-df-container\">\n",
       "    <button class=\"colab-df-convert\" onclick=\"convertToInteractive('df-3b65a117-f349-46bf-84ef-61007f9f6238')\"\n",
       "            title=\"Convert this dataframe to an interactive table.\"\n",
       "            style=\"display:none;\">\n",
       "\n",
       "  <svg xmlns=\"http://www.w3.org/2000/svg\" height=\"24px\" viewBox=\"0 -960 960 960\">\n",
       "    <path d=\"M120-120v-720h720v720H120Zm60-500h600v-160H180v160Zm220 220h160v-160H400v160Zm0 220h160v-160H400v160ZM180-400h160v-160H180v160Zm440 0h160v-160H620v160ZM180-180h160v-160H180v160Zm440 0h160v-160H620v160Z\"/>\n",
       "  </svg>\n",
       "    </button>\n",
       "\n",
       "  <style>\n",
       "    .colab-df-container {\n",
       "      display:flex;\n",
       "      gap: 12px;\n",
       "    }\n",
       "\n",
       "    .colab-df-convert {\n",
       "      background-color: #E8F0FE;\n",
       "      border: none;\n",
       "      border-radius: 50%;\n",
       "      cursor: pointer;\n",
       "      display: none;\n",
       "      fill: #1967D2;\n",
       "      height: 32px;\n",
       "      padding: 0 0 0 0;\n",
       "      width: 32px;\n",
       "    }\n",
       "\n",
       "    .colab-df-convert:hover {\n",
       "      background-color: #E2EBFA;\n",
       "      box-shadow: 0px 1px 2px rgba(60, 64, 67, 0.3), 0px 1px 3px 1px rgba(60, 64, 67, 0.15);\n",
       "      fill: #174EA6;\n",
       "    }\n",
       "\n",
       "    .colab-df-buttons div {\n",
       "      margin-bottom: 4px;\n",
       "    }\n",
       "\n",
       "    [theme=dark] .colab-df-convert {\n",
       "      background-color: #3B4455;\n",
       "      fill: #D2E3FC;\n",
       "    }\n",
       "\n",
       "    [theme=dark] .colab-df-convert:hover {\n",
       "      background-color: #434B5C;\n",
       "      box-shadow: 0px 1px 3px 1px rgba(0, 0, 0, 0.15);\n",
       "      filter: drop-shadow(0px 1px 2px rgba(0, 0, 0, 0.3));\n",
       "      fill: #FFFFFF;\n",
       "    }\n",
       "  </style>\n",
       "\n",
       "    <script>\n",
       "      const buttonEl =\n",
       "        document.querySelector('#df-3b65a117-f349-46bf-84ef-61007f9f6238 button.colab-df-convert');\n",
       "      buttonEl.style.display =\n",
       "        google.colab.kernel.accessAllowed ? 'block' : 'none';\n",
       "\n",
       "      async function convertToInteractive(key) {\n",
       "        const element = document.querySelector('#df-3b65a117-f349-46bf-84ef-61007f9f6238');\n",
       "        const dataTable =\n",
       "          await google.colab.kernel.invokeFunction('convertToInteractive',\n",
       "                                                    [key], {});\n",
       "        if (!dataTable) return;\n",
       "\n",
       "        const docLinkHtml = 'Like what you see? Visit the ' +\n",
       "          '<a target=\"_blank\" href=https://colab.research.google.com/notebooks/data_table.ipynb>data table notebook</a>'\n",
       "          + ' to learn more about interactive tables.';\n",
       "        element.innerHTML = '';\n",
       "        dataTable['output_type'] = 'display_data';\n",
       "        await google.colab.output.renderOutput(dataTable, element);\n",
       "        const docLink = document.createElement('div');\n",
       "        docLink.innerHTML = docLinkHtml;\n",
       "        element.appendChild(docLink);\n",
       "      }\n",
       "    </script>\n",
       "  </div>\n",
       "\n",
       "\n",
       "<div id=\"df-9704fc70-d666-410b-a25a-12375bf558df\">\n",
       "  <button class=\"colab-df-quickchart\" onclick=\"quickchart('df-9704fc70-d666-410b-a25a-12375bf558df')\"\n",
       "            title=\"Suggest charts\"\n",
       "            style=\"display:none;\">\n",
       "\n",
       "<svg xmlns=\"http://www.w3.org/2000/svg\" height=\"24px\"viewBox=\"0 0 24 24\"\n",
       "     width=\"24px\">\n",
       "    <g>\n",
       "        <path d=\"M19 3H5c-1.1 0-2 .9-2 2v14c0 1.1.9 2 2 2h14c1.1 0 2-.9 2-2V5c0-1.1-.9-2-2-2zM9 17H7v-7h2v7zm4 0h-2V7h2v10zm4 0h-2v-4h2v4z\"/>\n",
       "    </g>\n",
       "</svg>\n",
       "  </button>\n",
       "\n",
       "<style>\n",
       "  .colab-df-quickchart {\n",
       "      --bg-color: #E8F0FE;\n",
       "      --fill-color: #1967D2;\n",
       "      --hover-bg-color: #E2EBFA;\n",
       "      --hover-fill-color: #174EA6;\n",
       "      --disabled-fill-color: #AAA;\n",
       "      --disabled-bg-color: #DDD;\n",
       "  }\n",
       "\n",
       "  [theme=dark] .colab-df-quickchart {\n",
       "      --bg-color: #3B4455;\n",
       "      --fill-color: #D2E3FC;\n",
       "      --hover-bg-color: #434B5C;\n",
       "      --hover-fill-color: #FFFFFF;\n",
       "      --disabled-bg-color: #3B4455;\n",
       "      --disabled-fill-color: #666;\n",
       "  }\n",
       "\n",
       "  .colab-df-quickchart {\n",
       "    background-color: var(--bg-color);\n",
       "    border: none;\n",
       "    border-radius: 50%;\n",
       "    cursor: pointer;\n",
       "    display: none;\n",
       "    fill: var(--fill-color);\n",
       "    height: 32px;\n",
       "    padding: 0;\n",
       "    width: 32px;\n",
       "  }\n",
       "\n",
       "  .colab-df-quickchart:hover {\n",
       "    background-color: var(--hover-bg-color);\n",
       "    box-shadow: 0 1px 2px rgba(60, 64, 67, 0.3), 0 1px 3px 1px rgba(60, 64, 67, 0.15);\n",
       "    fill: var(--button-hover-fill-color);\n",
       "  }\n",
       "\n",
       "  .colab-df-quickchart-complete:disabled,\n",
       "  .colab-df-quickchart-complete:disabled:hover {\n",
       "    background-color: var(--disabled-bg-color);\n",
       "    fill: var(--disabled-fill-color);\n",
       "    box-shadow: none;\n",
       "  }\n",
       "\n",
       "  .colab-df-spinner {\n",
       "    border: 2px solid var(--fill-color);\n",
       "    border-color: transparent;\n",
       "    border-bottom-color: var(--fill-color);\n",
       "    animation:\n",
       "      spin 1s steps(1) infinite;\n",
       "  }\n",
       "\n",
       "  @keyframes spin {\n",
       "    0% {\n",
       "      border-color: transparent;\n",
       "      border-bottom-color: var(--fill-color);\n",
       "      border-left-color: var(--fill-color);\n",
       "    }\n",
       "    20% {\n",
       "      border-color: transparent;\n",
       "      border-left-color: var(--fill-color);\n",
       "      border-top-color: var(--fill-color);\n",
       "    }\n",
       "    30% {\n",
       "      border-color: transparent;\n",
       "      border-left-color: var(--fill-color);\n",
       "      border-top-color: var(--fill-color);\n",
       "      border-right-color: var(--fill-color);\n",
       "    }\n",
       "    40% {\n",
       "      border-color: transparent;\n",
       "      border-right-color: var(--fill-color);\n",
       "      border-top-color: var(--fill-color);\n",
       "    }\n",
       "    60% {\n",
       "      border-color: transparent;\n",
       "      border-right-color: var(--fill-color);\n",
       "    }\n",
       "    80% {\n",
       "      border-color: transparent;\n",
       "      border-right-color: var(--fill-color);\n",
       "      border-bottom-color: var(--fill-color);\n",
       "    }\n",
       "    90% {\n",
       "      border-color: transparent;\n",
       "      border-bottom-color: var(--fill-color);\n",
       "    }\n",
       "  }\n",
       "</style>\n",
       "\n",
       "  <script>\n",
       "    async function quickchart(key) {\n",
       "      const quickchartButtonEl =\n",
       "        document.querySelector('#' + key + ' button');\n",
       "      quickchartButtonEl.disabled = true;  // To prevent multiple clicks.\n",
       "      quickchartButtonEl.classList.add('colab-df-spinner');\n",
       "      try {\n",
       "        const charts = await google.colab.kernel.invokeFunction(\n",
       "            'suggestCharts', [key], {});\n",
       "      } catch (error) {\n",
       "        console.error('Error during call to suggestCharts:', error);\n",
       "      }\n",
       "      quickchartButtonEl.classList.remove('colab-df-spinner');\n",
       "      quickchartButtonEl.classList.add('colab-df-quickchart-complete');\n",
       "    }\n",
       "    (() => {\n",
       "      let quickchartButtonEl =\n",
       "        document.querySelector('#df-9704fc70-d666-410b-a25a-12375bf558df button');\n",
       "      quickchartButtonEl.style.display =\n",
       "        google.colab.kernel.accessAllowed ? 'block' : 'none';\n",
       "    })();\n",
       "  </script>\n",
       "</div>\n",
       "\n",
       "  <div id=\"id_bcd5e103-a41d-474a-b409-da7efb7d3bf4\">\n",
       "    <style>\n",
       "      .colab-df-generate {\n",
       "        background-color: #E8F0FE;\n",
       "        border: none;\n",
       "        border-radius: 50%;\n",
       "        cursor: pointer;\n",
       "        display: none;\n",
       "        fill: #1967D2;\n",
       "        height: 32px;\n",
       "        padding: 0 0 0 0;\n",
       "        width: 32px;\n",
       "      }\n",
       "\n",
       "      .colab-df-generate:hover {\n",
       "        background-color: #E2EBFA;\n",
       "        box-shadow: 0px 1px 2px rgba(60, 64, 67, 0.3), 0px 1px 3px 1px rgba(60, 64, 67, 0.15);\n",
       "        fill: #174EA6;\n",
       "      }\n",
       "\n",
       "      [theme=dark] .colab-df-generate {\n",
       "        background-color: #3B4455;\n",
       "        fill: #D2E3FC;\n",
       "      }\n",
       "\n",
       "      [theme=dark] .colab-df-generate:hover {\n",
       "        background-color: #434B5C;\n",
       "        box-shadow: 0px 1px 3px 1px rgba(0, 0, 0, 0.15);\n",
       "        filter: drop-shadow(0px 1px 2px rgba(0, 0, 0, 0.3));\n",
       "        fill: #FFFFFF;\n",
       "      }\n",
       "    </style>\n",
       "    <button class=\"colab-df-generate\" onclick=\"generateWithVariable('df')\"\n",
       "            title=\"Generate code using this dataframe.\"\n",
       "            style=\"display:none;\">\n",
       "\n",
       "  <svg xmlns=\"http://www.w3.org/2000/svg\" height=\"24px\"viewBox=\"0 0 24 24\"\n",
       "       width=\"24px\">\n",
       "    <path d=\"M7,19H8.4L18.45,9,17,7.55,7,17.6ZM5,21V16.75L18.45,3.32a2,2,0,0,1,2.83,0l1.4,1.43a1.91,1.91,0,0,1,.58,1.4,1.91,1.91,0,0,1-.58,1.4L9.25,21ZM18.45,9,17,7.55Zm-12,3A5.31,5.31,0,0,0,4.9,8.1,5.31,5.31,0,0,0,1,6.5,5.31,5.31,0,0,0,4.9,4.9,5.31,5.31,0,0,0,6.5,1,5.31,5.31,0,0,0,8.1,4.9,5.31,5.31,0,0,0,12,6.5,5.46,5.46,0,0,0,6.5,12Z\"/>\n",
       "  </svg>\n",
       "    </button>\n",
       "    <script>\n",
       "      (() => {\n",
       "      const buttonEl =\n",
       "        document.querySelector('#id_bcd5e103-a41d-474a-b409-da7efb7d3bf4 button.colab-df-generate');\n",
       "      buttonEl.style.display =\n",
       "        google.colab.kernel.accessAllowed ? 'block' : 'none';\n",
       "\n",
       "      buttonEl.onclick = () => {\n",
       "        google.colab.notebook.generateWithVariable('df');\n",
       "      }\n",
       "      })();\n",
       "    </script>\n",
       "  </div>\n",
       "\n",
       "    </div>\n",
       "  </div>\n"
      ],
      "text/plain": [
       "    Grupo de control  Nivel glucosa basal  Nivel glucosa 60 min\n",
       "0                  1                   90                   136\n",
       "1                  1                   82                   151\n",
       "2                  1                   80                   148\n",
       "3                  1                   75                   138\n",
       "4                  1                   74                   141\n",
       "..               ...                  ...                   ...\n",
       "60                 2                   95                   169\n",
       "61                 2                   99                   172\n",
       "62                 2                   98                   173\n",
       "63                 2                   84                   188\n",
       "64                 2                   92                   160\n",
       "\n",
       "[65 rows x 3 columns]"
      ]
     },
     "execution_count": 3,
     "metadata": {},
     "output_type": "execute_result"
    }
   ],
   "source": [
    "df = pd.read_excel('ARCHIVODATOSEVALUACION24.xlsx')\n",
    "df"
   ]
  },
  {
   "cell_type": "code",
   "execution_count": 65,
   "metadata": {
    "colab": {
     "base_uri": "https://localhost:8080/"
    },
    "id": "F3-_16-47HGo",
    "outputId": "cd7ea409-dc4a-47e8-805e-46485e2ac82f"
   },
   "outputs": [
    {
     "name": "stdout",
     "output_type": "stream",
     "text": [
      "MEDIDAS DE CENTRALIZACION Y DISPERSION\n",
      "                  count       mean       std   min   25%   50%    75%    max\n",
      "Grupo de control                                                            \n",
      "1                  35.0  85.028571  9.379219  65.0  78.5  82.0  90.50  104.0\n",
      "2                  30.0  90.833333  8.461203  77.0  84.5  90.5  97.75  106.0\n",
      "VARIANZA\n",
      "Grupo de control\n",
      "1    87.969748\n",
      "2    71.591954\n",
      "Name: Nivel glucosa basal, dtype: float64\n",
      "CV\n",
      "Grupo de control\n",
      "1    0.110307\n",
      "2    0.093151\n",
      "dtype: float64\n"
     ]
    }
   ],
   "source": [
    "print('MEDIDAS DE CENTRALIZACION Y DISPERSION')\n",
    "medidas_por_grupo = df.groupby('Grupo de control')['Nivel glucosa basal'].describe()\n",
    "print(medidas_por_grupo)\n",
    "# Gracias a .descibe() obtenemos las medidas de centralizacion, media ('mean') y mediana (50%)\n",
    "# Obtenemos tambien las de dispersion: desv tipica(std), rango (max-min), rec. intercuartilico (75% - 25%)\n",
    "# Añado tambien las funciones para saber la varianza y el CV\n",
    "print('VARIANZA')\n",
    "varianza = df.groupby('Grupo de control')['Nivel glucosa basal'].var()\n",
    "print(varianza)\n",
    "print('CV')\n",
    "cv = medidas_por_grupo['std']/medidas_por_grupo['mean']\n",
    "print(cv)\n",
    "#Esta ultima medida nos permite saber la representatividad de la media\n",
    "#Al ser ambos CV menores a 0'3, diremos que la media es representativa"
   ]
  },
  {
   "cell_type": "code",
   "execution_count": 5,
   "metadata": {
    "colab": {
     "base_uri": "https://localhost:8080/"
    },
    "id": "U78-i4nv8zeG",
    "outputId": "d473e68c-bf7e-47ca-e3b9-85d7659539f9"
   },
   "outputs": [
    {
     "name": "stdout",
     "output_type": "stream",
     "text": [
      "Coeficiente asimetría para adultos: -0.08006820966886752\n",
      "Curtosis para adultos: -1.0258071550350931\n"
     ]
    }
   ],
   "source": [
    "grupo_2 = df[df['Grupo de control'] == 2]\n",
    "\n",
    "# Calcular la asimetría para el Grupo 2\n",
    "simetria = grupo_2['Nivel glucosa basal'].skew()\n",
    "print(\"Coeficiente asimetría para adultos:\", simetria)\n",
    "\n",
    "# Calcular la curtosis para el Grupo 2\n",
    "curtosis = grupo_2['Nivel glucosa basal'].kurtosis()\n",
    "print(\"Curtosis para adultos:\", curtosis)\n",
    "\n",
    "# El coeficiente de asimetria es negativo, la distribución es asimétrica negativa o asimétrica a la izquierda, aunque no mucho\n",
    "# La curtosis tambien es negativa, la distribucion es platicúrtica (más\n",
    "# aplanada de lo normal)\n"
   ]
  },
  {
   "cell_type": "code",
   "execution_count": 6,
   "metadata": {
    "colab": {
     "base_uri": "https://localhost:8080/"
    },
    "id": "8q0D2Ut0FCS5",
    "outputId": "ae4df24a-1b43-4e5e-febd-12c7065d96a3"
   },
   "outputs": [
    {
     "name": "stdout",
     "output_type": "stream",
     "text": [
      "Cuartiles para el Nivel de Glucosa Basal (Grupo 1):\n",
      "0.25    78.5\n",
      "0.50    82.0\n",
      "0.75    90.5\n",
      "Name: Nivel glucosa basal, dtype: float64\n",
      "\n",
      "Cuartiles para el Nivel de Glucosa a los 60 min (Grupo 1):\n",
      "0.25    141.0\n",
      "0.50    148.0\n",
      "0.75    153.0\n",
      "Name: Nivel glucosa 60 min, dtype: float64\n"
     ]
    }
   ],
   "source": [
    "grupo_1 = df[df['Grupo de control'] == 1]\n",
    "cuartiles_glucosa_basal = grupo_1['Nivel glucosa basal'].quantile([0.25, 0.5, 0.75])\n",
    "cuartiles_glucosa_60min = grupo_1['Nivel glucosa 60 min'].quantile([0.25, 0.5, 0.75])\n",
    "\n",
    "# Imprimir los cuartiles\n",
    "print(\"Cuartiles para el Nivel de Glucosa Basal (Grupo 1):\")\n",
    "print(cuartiles_glucosa_basal)\n",
    "print(\"\\nCuartiles para el Nivel de Glucosa a los 60 min (Grupo 1):\")\n",
    "print(cuartiles_glucosa_60min)\n",
    "\n",
    "#Q1: el primer cuartil (25% de los datos están por debajo de este valor).\n",
    "#Q2: la mediana o el segundo cuartil (50% de los datos están por debajo de este valor).\n",
    "#Q3: el tercer cuartil (75% de los datos están por debajo de este valor)\n"
   ]
  },
  {
   "cell_type": "code",
   "execution_count": 7,
   "metadata": {
    "colab": {
     "base_uri": "https://localhost:8080/",
     "height": 452
    },
    "id": "fNKWCVJ1JEhm",
    "outputId": "8b95bcf4-7087-472b-ba47-f753df9a6ce4"
   },
   "outputs": [
    {
     "data": {
      "image/png": "[encoded data removed]",
      "text/plain": [
       "<Figure size 640x480 with 1 Axes>"
      ]
     },
     "metadata": {},
     "output_type": "display_data"
    }
   ],
   "source": [
    "import matplotlib.pyplot as plt\n",
    "\n",
    "plt.boxplot(grupo_1['Nivel glucosa basal'])\n",
    "plt.title('Boxplot Nivel de Glucosa Basal Grupo 1')\n",
    "plt.ylabel('Nivel de Glucosa Basal')\n",
    "plt.show;\n",
    "#Atendiendo al boxplot para el nivel basal, no encontramos ningun dato atipico\n"
   ]
  },
  {
   "cell_type": "code",
   "execution_count": 8,
   "metadata": {
    "colab": {
     "base_uri": "https://localhost:8080/",
     "height": 452
    },
    "id": "5KN64jp3NfZ3",
    "outputId": "04fcee56-8ab1-4e74-d1cd-c1be859e0bfd"
   },
   "outputs": [
    {
     "data": {
      "image/png": "[encoded data removed]",
      "text/plain": [
       "<Figure size 640x480 with 1 Axes>"
      ]
     },
     "metadata": {},
     "output_type": "display_data"
    }
   ],
   "source": [
    "plt.boxplot(grupo_1['Nivel glucosa 60 min'])\n",
    "plt.title('Boxplot Nivel de Glucosa a los 60 min Grupo 1')\n",
    "plt.ylabel('Nivel de Glucosa a los 60 min')\n",
    "plt.show;\n",
    "#En el boxplot para el nivel a los 60 min, observamos un outlier, representado por un punto más allá del bigote superior (limite maximo)\n"
   ]
  },
  {
   "cell_type": "code",
   "execution_count": 9,
   "metadata": {
    "colab": {
     "base_uri": "https://localhost:8080/"
    },
    "id": "m52jltn3Snwm",
    "outputId": "c098261f-1978-41ce-d35d-717f6a70178e"
   },
   "outputs": [
    {
     "name": "stdout",
     "output_type": "stream",
     "text": [
      "Prueba de Shapiro-Wilk - Grupo 1: Estadístico = 0.9735987272599481, p-value = 0.5493438105627045\n",
      "Prueba de Shapiro-Wilk - Grupo 2: Estadístico = 0.9659754286699488, p-value = 0.4356766397527704\n"
     ]
    }
   ],
   "source": [
    "import scipy.stats as stats\n",
    "\n",
    "shapiro_grupo_1 = stats.shapiro(grupo_1['Nivel glucosa 60 min'])\n",
    "shapiro_grupo_2 = stats.shapiro(grupo_2['Nivel glucosa 60 min'])\n",
    "\n",
    "print(f\"Prueba de Shapiro-Wilk - Grupo 1: Estadístico = {shapiro_grupo_1[0]}, p-value = {shapiro_grupo_1[1]}\")\n",
    "print(f\"Prueba de Shapiro-Wilk - Grupo 2: Estadístico = {shapiro_grupo_2[0]}, p-value = {shapiro_grupo_2[1]}\")\n",
    "\n",
    "#Dado que la muestra no es muy grande, en primer lugar uso el Test de Shapiro-Wilk\n",
    "#En ambos grupos el p-valor es >0'05, por lo que asumimos que ambas siguen una distribucion normal"
   ]
  },
  {
   "cell_type": "code",
   "execution_count": 10,
   "metadata": {
    "colab": {
     "base_uri": "https://localhost:8080/",
     "height": 452
    },
    "id": "lJJxM-1DZv7q",
    "outputId": "316325d3-c137-4ba7-a185-bf6248bd055d"
   },
   "outputs": [
    {
     "data": {
      "image/png": "[encoded data removed]",
      "text/plain": [
       "<Figure size 640x480 with 1 Axes>"
      ]
     },
     "metadata": {},
     "output_type": "display_data"
    }
   ],
   "source": [
    "#Complementamos la prueba analítica con una prueba grafica\n",
    "import numpy as np\n",
    "import matplotlib.pyplot as plt\n",
    "from scipy.stats import norm\n",
    "datos = grupo_1['Nivel glucosa 60 min']\n",
    "plt.hist(datos, bins=10, density=True, color=\"teal\", alpha=0.7, edgecolor=\"white\", label=\"Datos\")\n",
    "\n",
    "x = np.linspace(min(datos), max(datos), 1000)\n",
    "pdf = norm.pdf(x, np.mean(datos), np.std(datos))  # Curva normal con media y desviación estándar de los datos\n",
    "plt.plot(x, pdf, color=\"brown\", linewidth=2, label=\"Curva normal teórica\")\n",
    "plt.title(\"Histogram\")\n",
    "plt.legend()\n",
    "plt.grid(alpha=0.3)\n",
    "plt.show()\n"
   ]
  },
  {
   "cell_type": "code",
   "execution_count": 11,
   "metadata": {
    "colab": {
     "base_uri": "https://localhost:8080/",
     "height": 452
    },
    "id": "fZUfzxIubhF1",
    "outputId": "6e5ce9b8-eae2-46b7-81aa-49878ffdd0a7"
   },
   "outputs": [
    {
     "data": {
      "image/png": "[encoded data removed]",
      "text/plain": [
       "<Figure size 640x480 with 1 Axes>"
      ]
     },
     "metadata": {},
     "output_type": "display_data"
    }
   ],
   "source": [
    "datos1 = grupo_2['Nivel glucosa 60 min']\n",
    "plt.hist(datos1, bins=10, density=True, color=\"teal\", alpha=0.7, edgecolor=\"white\", label=\"Datos\")\n",
    "x = np.linspace(min(datos1), max(datos1), 1000)\n",
    "pdf = norm.pdf(x, np.mean(datos1), np.std(datos1))  # Curva normal con media y desviación estándar de los datos\n",
    "plt.plot(x, pdf, color=\"brown\", linewidth=2, label=\"Curva normal teórica\")\n",
    "plt.title(\"Histogram\")\n",
    "plt.legend()\n",
    "plt.grid(alpha=0.3)\n",
    "plt.show()\n",
    "\n",
    "#En ambos graficos observamos como el dibujo se aproxima a la curva de una distribucion normal"
   ]
  },
  {
   "cell_type": "code",
   "execution_count": 12,
   "metadata": {
    "colab": {
     "base_uri": "https://localhost:8080/"
    },
    "id": "fWVGRMoGOZYh",
    "outputId": "216e2263-e717-4382-ea6f-cfa6047d01ec"
   },
   "outputs": [
    {
     "data": {
      "text/plain": [
       "0.6105394984279824"
      ]
     },
     "execution_count": 12,
     "metadata": {},
     "output_type": "execute_result"
    }
   ],
   "source": [
    "df1 = df[df['Grupo de control'] == 1]\n",
    "df1['Nivel glucosa basal'].corr(df1['Nivel glucosa 60 min'])\n",
    "#Creo un nuevo database con solo los datos del grupo 1\n",
    "#Aplico una formula que me calcula el coeficiente de correlacion lineal entre las 2 variables de estudio\n",
    "#La relacion lineal entre ellas es positiva y  de intensidad media-alta"
   ]
  },
  {
   "cell_type": "code",
   "execution_count": 13,
   "metadata": {
    "colab": {
     "base_uri": "https://localhost:8080/"
    },
    "id": "oM6o3_f1OqpB",
    "outputId": "82655490-107b-4c50-81d1-776d74184a6d"
   },
   "outputs": [
    {
     "data": {
      "text/plain": [
       "54.67815126050419"
      ]
     },
     "execution_count": 13,
     "metadata": {},
     "output_type": "execute_result"
    }
   ],
   "source": [
    "df1['Nivel glucosa basal'].cov(df1['Nivel glucosa 60 min'])\n",
    "#Tambien se puede calcular la covarianza aunque tiene limites por la unidad de medida\n",
    "#Cuanto mayor es la covarianza mayor es la relación lineal entre las variables\n",
    "#Si dos variables estadísticamente dependientes crecen o decrecen en el mismo sentido la covarianza es positiva"
   ]
  },
  {
   "cell_type": "code",
   "execution_count": 14,
   "metadata": {
    "colab": {
     "base_uri": "https://localhost:8080/",
     "height": 472
    },
    "id": "fg6o9rgBPp6E",
    "outputId": "b1d0473b-9f09-4149-8e72-d5225594c9e1"
   },
   "outputs": [
    {
     "data": {
      "image/png": "[encoded data removed]",
      "text/plain": [
       "<Figure size 640x480 with 1 Axes>"
      ]
     },
     "metadata": {},
     "output_type": "display_data"
    }
   ],
   "source": [
    "#Por ultimo, aplico un metodo grafico como los diagramas de dispersion\n",
    "plt.scatter(df1['Nivel glucosa basal'], df1['Nivel glucosa 60 min'])\n",
    "plt.title('Diagrama de dispersión')\n",
    "plt.xlabel('Nivel glucosa basal')\n",
    "plt.ylabel('Nivel glucosa 60 min')\n",
    "plt.show()\n",
    "#Apreciamos nuevamente una relacion lineal positiva y medianamente fuerte\n"
   ]
  },
  {
   "cell_type": "code",
   "execution_count": 66,
   "metadata": {
    "colab": {
     "base_uri": "https://localhost:8080/"
    },
    "id": "6i5UCUeUQgLO",
    "outputId": "c4506027-cef2-404a-cd29-88a92d287e41"
   },
   "outputs": [
    {
     "name": "stdout",
     "output_type": "stream",
     "text": [
      "Intercepto: 95.09281265522905\n",
      "Pendiente: 0.6215563027778842\n"
     ]
    }
   ],
   "source": [
    "from sklearn.linear_model import LinearRegression\n",
    "modelo = LinearRegression()\n",
    "modelo.fit(df1[['Nivel glucosa basal']], df1['Nivel glucosa 60 min'])\n",
    "print(f\"Intercepto: {modelo.intercept_}\")\n",
    "print(f\"Pendiente: {modelo.coef_[0]}\")\n",
    "#Con la libreria skicit learn obtenemos el modelo de regresion lineal\n",
    "#Explica el nivel de glucosa a los 60 min en funcion del nivel de glucosa basal\n",
    "#Mostramos la pendiente(coeficiente) y el intercepto del modelo"
   ]
  },
  {
   "cell_type": "code",
   "execution_count": 67,
   "metadata": {
    "colab": {
     "base_uri": "https://localhost:8080/"
    },
    "id": "ivgvP8RhSTJJ",
    "outputId": "ceb1c0a5-49ff-4f64-e38e-657ccb2316e1"
   },
   "outputs": [
    {
     "name": "stdout",
     "output_type": "stream",
     "text": [
      "[146.68198579]\n"
     ]
    },
    {
     "name": "stderr",
     "output_type": "stream",
     "text": [
      "/usr/local/lib/python3.10/dist-packages/sklearn/utils/validation.py:2739: UserWarning: X does not have valid feature names, but LinearRegression was fitted with feature names\n",
      "  warnings.warn(\n"
     ]
    }
   ],
   "source": [
    "nivel = [[83]]\n",
    "glucosa_estimada = modelo.predict(nivel)\n",
    "print (glucosa_estimada)\n",
    "#La estimacion sustituye la x en el modelo por 83 y realiza el calculo y = 95'09 + 0'62*83\n",
    "#Para un paciente joven cuyo nivel basal es 83 mg/Dl se estima que su nivel a los 60 min será 146,68 mg/Dl"
   ]
  },
  {
   "cell_type": "code",
   "execution_count": 68,
   "metadata": {
    "colab": {
     "base_uri": "https://localhost:8080/"
    },
    "id": "Wq2ArmpgXJkb",
    "outputId": "7220e953-db6a-4d20-d897-9acb33d8dbb4"
   },
   "outputs": [
    {
     "name": "stdout",
     "output_type": "stream",
     "text": [
      "R² (porcentaje explicado): 37.28%\n",
      "Porcentaje no explicado por el modelo: 62.72%\n"
     ]
    }
   ],
   "source": [
    "from sklearn.metrics import r2_score\n",
    "r2 = modelo.score(df1[['Nivel glucosa basal']], df1['Nivel glucosa 60 min'])\n",
    "porcentaje_no_explicado = (1 - r2) * 100\n",
    "\n",
    "print(f\"R² (porcentaje explicado): {r2 * 100:.2f}%\")\n",
    "print(f\"Porcentaje no explicado por el modelo: {porcentaje_no_explicado:.2f}%\")\n",
    "#El r2 es bajo, hay un porcentaje de la variacion no explicada por el modelo elevado (62,72%)"
   ]
  },
  {
   "cell_type": "code",
   "execution_count": 69,
   "metadata": {
    "colab": {
     "base_uri": "https://localhost:8080/"
    },
    "id": "U-0dLbwrYpJ1",
    "outputId": "2999bd02-0bdf-417d-9414-98512f357a2a"
   },
   "outputs": [
    {
     "name": "stdout",
     "output_type": "stream",
     "text": [
      "Por cada aumento de 5 mg/dL en el nivel basal, la glucosa a los 60 minutos aumentará en 3.11 mg/dL\n"
     ]
    }
   ],
   "source": [
    "pendiente = modelo.coef_[0]\n",
    "incremento_nivel_basal = 5\n",
    "incremento_glucosa_60min = pendiente * incremento_nivel_basal\n",
    "print(f\"Por cada aumento de 5 mg/dL en el nivel basal, la glucosa a los 60 minutos aumentará en {incremento_glucosa_60min:.2f} mg/dL\")"
   ]
  },
  {
   "cell_type": "code",
   "execution_count": 19,
   "metadata": {
    "colab": {
     "base_uri": "https://localhost:8080/"
    },
    "id": "HEewaP-kbptk",
    "outputId": "a65ae84f-cb01-4a1a-a21d-99d5b37186ae"
   },
   "outputs": [
    {
     "name": "stdout",
     "output_type": "stream",
     "text": [
      "(81.80669699675354, 88.2504458603893)\n"
     ]
    }
   ],
   "source": [
    "import statsmodels.api as sm\n",
    "from statsmodels.stats.weightstats import DescrStatsW\n",
    "conf_interval_95 = DescrStatsW(df1['Nivel glucosa basal']).tconfint_mean()\n",
    "print(conf_interval_95)\n",
    "#Por defecto se calcula el IC al 95%. Como 88 esta dentro del intervalo, se puede afirmar\n",
    "# que el nivel medio de glucosa en sangre en el momento de la ingestión en los jóvenes es 88 mg/Dl al 95%"
   ]
  },
  {
   "cell_type": "code",
   "execution_count": 20,
   "metadata": {
    "colab": {
     "base_uri": "https://localhost:8080/"
    },
    "id": "AZsz3ThMdjrj",
    "outputId": "c280d2df-9d3e-4434-bc81-7e7315a2d29d"
   },
   "outputs": [
    {
     "name": "stdout",
     "output_type": "stream",
     "text": [
      "(80.70303677421424, 89.35410608292861)\n"
     ]
    }
   ],
   "source": [
    "conf_interv_99 = DescrStatsW(df1['Nivel glucosa basal']).tconfint_mean(alpha=0.01)\n",
    "print(conf_interv_99)\n",
    "#Al 99% obtenemos la misma conclusion ya que tambien cae dentro del intervalo de confianza"
   ]
  },
  {
   "cell_type": "code",
   "execution_count": 40,
   "metadata": {
    "colab": {
     "base_uri": "https://localhost:8080/"
    },
    "id": "8lSvPtYHf05D",
    "outputId": "cd6f5310-0efe-45b4-8654-39e60aa415a2"
   },
   "outputs": [
    {
     "data": {
      "text/plain": [
       "(1.3457090144159904, 10.263814795107816)"
      ]
     },
     "execution_count": 40,
     "metadata": {},
     "output_type": "execute_result"
    }
   ],
   "source": [
    "df2 = df[df['Grupo de control'] == 2]\n",
    "\n",
    "import statsmodels.stats.api as sms\n",
    "\n",
    "cm = sms.CompareMeans(sms.DescrStatsW(df2['Nivel glucosa basal']), sms.DescrStatsW(df1['Nivel glucosa basal']))\n",
    "confidence_interval = cm.tconfint_diff(alpha=0.05, usevar='pooled')\n",
    "confidence_interval\n",
    "#Este intervalo de confianza no incluye el valor 0\n",
    "#lo que indica que hay evidencia estadísticamente significativa para concluir que\n",
    "#las medias de los niveles basales de glucosa entre adultos y jóvenes son diferentes al 95%."
   ]
  },
  {
   "cell_type": "code",
   "execution_count": 59,
   "metadata": {
    "colab": {
     "base_uri": "https://localhost:8080/"
    },
    "id": "eLAeWlDTrPL7",
    "outputId": "bbfd6a5d-11b0-4f32-ac14-8e16fce839fe"
   },
   "outputs": [
    {
     "name": "stdout",
     "output_type": "stream",
     "text": [
      "Intervalo de confianza al 98%: (0.1347, 0.3883)\n"
     ]
    }
   ],
   "source": [
    "from statsmodels.stats.proportion import proportion_confint\n",
    "n = len(df)\n",
    "casos = (df['Nivel glucosa basal'] > 95).sum()\n",
    "\n",
    "# Intervalo de confianza al 98%\n",
    "alpha = 0.02\n",
    "ci_lower, ci_upper = proportion_confint(count=casos, nobs=n, alpha=alpha, method='normal')\n",
    "print(f\"Intervalo de confianza al 98%: ({ci_lower:.4f}, {ci_upper:.4f})\")"
   ]
  },
  {
   "cell_type": "code",
   "execution_count": 57,
   "metadata": {
    "colab": {
     "base_uri": "https://localhost:8080/"
    },
    "id": "cjPFpsxTsCKI",
    "outputId": "ebf21c52-ae8d-4a4d-8215-a9e79e07fa45"
   },
   "outputs": [
    {
     "name": "stdout",
     "output_type": "stream",
     "text": [
      "Estadístico Z: 2.0462\n",
      "p-valor: 0.0407\n"
     ]
    }
   ],
   "source": [
    "p_0 = 0.15  # Proporción bajo la hipótesis nula\n",
    "from statsmodels.stats.proportion import proportions_ztest\n",
    "\n",
    "# Contraste de hipótesis\n",
    "z_statistic, p_value = proportions_ztest(count=casos, nobs=n, value=p_0, alternative='two-sided')\n",
    "\n",
    "print(f\"Estadístico Z: {z_statistic:.4f}\")\n",
    "print(f\"p-valor: {p_value:.4f}\")\n",
    "#Como p-valor < alpha(0,05): rechazamos la hipotesis nula\n",
    "#no puede afirmarse que la proporción de la población con glucosa superior a 95 mg/Dl es 0,15"
   ]
  },
  {
   "cell_type": "code",
   "execution_count": 62,
   "metadata": {
    "colab": {
     "base_uri": "https://localhost:8080/"
    },
    "id": "90p26cZYwA3X",
    "outputId": "2e940ecb-6845-4f5e-fade-5f9780c1b824"
   },
   "outputs": [
    {
     "name": "stdout",
     "output_type": "stream",
     "text": [
      "Estadístico t: -31.26650492643161\n",
      "Valor p: 6.859810690337643e-24\n"
     ]
    }
   ],
   "source": [
    "diferencias = df2['Nivel glucosa basal']- df2['Nivel glucosa 60 min']\n",
    "import scipy.stats as stats\n",
    "t_stat, p_value = stats.ttest_1samp(diferencias, 0)\n",
    "print(f\"Estadístico t: {t_stat}\")\n",
    "print(f\"Valor p: {p_value}\")\n",
    "#El p-valor es minisculo, se rechaza la hipotesis nula de que la diferencia sea 0\n",
    "# claramente hay una variación significativa del nivel de glucosa en sangre en el grupo de los adultos después de la toma"
   ]
  },
  {
   "cell_type": "code",
   "execution_count": null,
   "metadata": {
    "id": "0qBXFdQAwJiu"
   },
   "outputs": [],
   "source": []
  }
 ],
 "metadata": {
  "colab": {
   "provenance": []
  },
  "kernelspec": {
   "display_name": "Python 3 (ipykernel)",
   "language": "python",
   "name": "python3"
  },
  "language_info": {
   "codemirror_mode": {
    "name": "ipython",
    "version": 3
   },
   "file_extension": ".py",
   "mimetype": "text/x-python",
   "name": "python",
   "nbconvert_exporter": "python",
   "pygments_lexer": "ipython3",
   "version": "3.12.3"
  }
 },
 "nbformat": 4,
 "nbformat_minor": 4
}
